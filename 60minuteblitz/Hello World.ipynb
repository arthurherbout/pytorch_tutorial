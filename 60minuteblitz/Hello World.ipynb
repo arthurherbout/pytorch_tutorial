{
 "cells": [
  {
   "cell_type": "markdown",
   "metadata": {},
   "source": [
    "This notebook is aimed at introducing basic ideas of Pytorch"
   ]
  },
  {
   "cell_type": "code",
   "execution_count": 1,
   "metadata": {},
   "outputs": [],
   "source": [
    "from __future__ import print_function\n",
    "import torch"
   ]
  },
  {
   "cell_type": "markdown",
   "metadata": {},
   "source": [
    "### Matrices"
   ]
  },
  {
   "cell_type": "code",
   "execution_count": 2,
   "metadata": {},
   "outputs": [
    {
     "name": "stdout",
     "output_type": "stream",
     "text": [
      "tensor([[-2.2923e+08,  4.5887e-41, -2.2923e+08],\n",
      "        [ 4.5887e-41,  5.8337e-10,  1.3567e-19],\n",
      "        [ 1.4584e-19,  7.8447e+17,  1.3556e-19],\n",
      "        [ 1.3563e-19,  1.3563e-19,  1.8561e-19],\n",
      "        [ 1.4584e-19,  2.4756e-12,  4.1411e-11]])\n"
     ]
    }
   ],
   "source": [
    "# 5x3 matrix\n",
    "x = torch.empty(5,3)\n",
    "print(x)"
   ]
  },
  {
   "cell_type": "code",
   "execution_count": 3,
   "metadata": {},
   "outputs": [
    {
     "name": "stdout",
     "output_type": "stream",
     "text": [
      "tensor([[0.0057, 0.4290, 0.3098],\n",
      "        [0.0444, 0.7383, 0.3480],\n",
      "        [0.7775, 0.7142, 0.9894],\n",
      "        [0.1600, 0.9330, 0.9321],\n",
      "        [0.6851, 0.0506, 0.8549]])\n"
     ]
    }
   ],
   "source": [
    "# randomly initialized matrix\n",
    "x = torch.rand(5,3)\n",
    "print(x)"
   ]
  },
  {
   "cell_type": "code",
   "execution_count": 4,
   "metadata": {},
   "outputs": [
    {
     "name": "stdout",
     "output_type": "stream",
     "text": [
      "tensor([[0, 0, 0],\n",
      "        [0, 0, 0],\n",
      "        [0, 0, 0],\n",
      "        [0, 0, 0],\n",
      "        [0, 0, 0]])\n"
     ]
    }
   ],
   "source": [
    "# zero matrix of dtype long\n",
    "x = torch.zeros(5,3, dtype=torch.long)\n",
    "print(x)"
   ]
  },
  {
   "cell_type": "markdown",
   "metadata": {},
   "source": [
    "### Tensors"
   ]
  },
  {
   "cell_type": "code",
   "execution_count": 7,
   "metadata": {},
   "outputs": [
    {
     "name": "stdout",
     "output_type": "stream",
     "text": [
      "tensor([5.5000, 3.0000])\n"
     ]
    }
   ],
   "source": [
    "# tensor constructed directly from data\n",
    "x = torch.tensor([5.5,3])\n",
    "print(x)"
   ]
  },
  {
   "cell_type": "code",
   "execution_count": 8,
   "metadata": {},
   "outputs": [
    {
     "name": "stdout",
     "output_type": "stream",
     "text": [
      "tensor([[1., 1., 1.],\n",
      "        [1., 1., 1.],\n",
      "        [1., 1., 1.],\n",
      "        [1., 1., 1.],\n",
      "        [1., 1., 1.]], dtype=torch.float64)\n",
      "tensor([[-0.9829, -1.3725,  0.3961],\n",
      "        [-0.9292, -0.3133, -0.1786],\n",
      "        [ 1.9233, -0.4905,  0.3177],\n",
      "        [-1.0227, -0.3641, -0.1449],\n",
      "        [ 0.4925, -0.5365,  0.0713]])\n"
     ]
    }
   ],
   "source": [
    "# tensor constructed from another tensor\n",
    "x = x.new_ones(5,3, dtype=torch.double)\n",
    "print(x)\n",
    "\n",
    "x = torch.randn_like(x, dtype=torch.float)\n",
    "print(x)"
   ]
  },
  {
   "cell_type": "markdown",
   "metadata": {},
   "source": [
    "### Operations"
   ]
  },
  {
   "cell_type": "markdown",
   "metadata": {},
   "source": [
    "**addition**"
   ]
  },
  {
   "cell_type": "code",
   "execution_count": 9,
   "metadata": {},
   "outputs": [
    {
     "name": "stdout",
     "output_type": "stream",
     "text": [
      "tensor([[-0.0624, -0.6051,  0.6742],\n",
      "        [-0.3215, -0.2146,  0.6412],\n",
      "        [ 2.4085,  0.3489,  0.8124],\n",
      "        [-0.7164,  0.2240,  0.6141],\n",
      "        [ 1.2416, -0.1837,  0.5589]])\n"
     ]
    }
   ],
   "source": [
    "# syntax 1\n",
    "y = torch.rand(5,3)\n",
    "print(x + y)"
   ]
  },
  {
   "cell_type": "code",
   "execution_count": 10,
   "metadata": {},
   "outputs": [
    {
     "name": "stdout",
     "output_type": "stream",
     "text": [
      "tensor([[-0.0624, -0.6051,  0.6742],\n",
      "        [-0.3215, -0.2146,  0.6412],\n",
      "        [ 2.4085,  0.3489,  0.8124],\n",
      "        [-0.7164,  0.2240,  0.6141],\n",
      "        [ 1.2416, -0.1837,  0.5589]])\n"
     ]
    }
   ],
   "source": [
    "# syntax 2\n",
    "print(torch.add(x,y))"
   ]
  },
  {
   "cell_type": "code",
   "execution_count": 12,
   "metadata": {},
   "outputs": [
    {
     "name": "stdout",
     "output_type": "stream",
     "text": [
      "tensor([[-0.0624, -0.6051,  0.6742],\n",
      "        [-0.3215, -0.2146,  0.6412],\n",
      "        [ 2.4085,  0.3489,  0.8124],\n",
      "        [-0.7164,  0.2240,  0.6141],\n",
      "        [ 1.2416, -0.1837,  0.5589]])\n"
     ]
    }
   ],
   "source": [
    "# providing an output tensor as argument\n",
    "result = torch.empty(5,3)\n",
    "torch.add(x,y, out= result)\n",
    "print(result)"
   ]
  },
  {
   "cell_type": "code",
   "execution_count": 13,
   "metadata": {},
   "outputs": [
    {
     "name": "stdout",
     "output_type": "stream",
     "text": [
      "tensor([[-0.0624, -0.6051,  0.6742],\n",
      "        [-0.3215, -0.2146,  0.6412],\n",
      "        [ 2.4085,  0.3489,  0.8124],\n",
      "        [-0.7164,  0.2240,  0.6141],\n",
      "        [ 1.2416, -0.1837,  0.5589]])\n"
     ]
    }
   ],
   "source": [
    "# in-place\n",
    "y.add_(x)\n",
    "print(y)"
   ]
  },
  {
   "cell_type": "markdown",
   "metadata": {},
   "source": [
    "**NumPy-like**"
   ]
  },
  {
   "cell_type": "code",
   "execution_count": 15,
   "metadata": {},
   "outputs": [
    {
     "name": "stdout",
     "output_type": "stream",
     "text": [
      "tensor([-1.3725, -0.3133, -0.4905, -0.3641, -0.5365])\n"
     ]
    }
   ],
   "source": [
    "# indexing\n",
    "print(x[:,1])"
   ]
  },
  {
   "cell_type": "code",
   "execution_count": 16,
   "metadata": {},
   "outputs": [
    {
     "name": "stdout",
     "output_type": "stream",
     "text": [
      "tensor([[-0.4443, -0.3263, -0.9260,  0.6400],\n",
      "        [ 0.2326,  0.6004,  1.1441,  1.8164],\n",
      "        [ 0.4695,  0.9143, -1.1069,  0.5749],\n",
      "        [ 0.7967, -0.6390, -1.4375,  0.7883]])\n",
      "tensor([-0.4443, -0.3263, -0.9260,  0.6400,  0.2326,  0.6004,  1.1441,  1.8164,\n",
      "         0.4695,  0.9143, -1.1069,  0.5749,  0.7967, -0.6390, -1.4375,  0.7883])\n",
      "tensor([[-0.4443, -0.3263, -0.9260,  0.6400,  0.2326,  0.6004,  1.1441,  1.8164],\n",
      "        [ 0.4695,  0.9143, -1.1069,  0.5749,  0.7967, -0.6390, -1.4375,  0.7883]])\n",
      "torch.Size([4, 4]) torch.Size([16]) torch.Size([2, 8])\n"
     ]
    }
   ],
   "source": [
    "# resizing\n",
    "x = torch.randn(4,4)\n",
    "print(x)\n",
    "y = x.view(16)\n",
    "print(y)\n",
    "z = x.view(-1,8) # the size -1 is inferred from other dimensions\n",
    "print(z)\n",
    "\n",
    "print(x.size(), y.size(), z.size())"
   ]
  },
  {
   "cell_type": "code",
   "execution_count": 17,
   "metadata": {},
   "outputs": [
    {
     "name": "stdout",
     "output_type": "stream",
     "text": [
      "tensor([-0.1827])\n",
      "-0.1827099770307541\n"
     ]
    }
   ],
   "source": [
    "# Python number\n",
    "x = torch.randn(1)\n",
    "print(x)\n",
    "print(x.item())"
   ]
  },
  {
   "cell_type": "markdown",
   "metadata": {},
   "source": [
    "**NumPy bridge**"
   ]
  },
  {
   "cell_type": "code",
   "execution_count": 18,
   "metadata": {},
   "outputs": [
    {
     "name": "stdout",
     "output_type": "stream",
     "text": [
      "tensor([1., 1., 1., 1., 1.])\n",
      "[1. 1. 1. 1. 1.]\n"
     ]
    }
   ],
   "source": [
    "# from Torch Tensor to NumPy Array\n",
    "a = torch.ones(5)\n",
    "print(a)\n",
    "b = a.numpy()\n",
    "print(b)"
   ]
  },
  {
   "cell_type": "code",
   "execution_count": 20,
   "metadata": {},
   "outputs": [
    {
     "name": "stdout",
     "output_type": "stream",
     "text": [
      "[2. 2. 2. 2. 2.]\n",
      "tensor([2., 2., 2., 2., 2.], dtype=torch.float64)\n"
     ]
    }
   ],
   "source": [
    "# from NumPy Array to Torch Tensor\n",
    "import numpy as np\n",
    "\n",
    "a = np.ones(5)\n",
    "b = torch.from_numpy(a)\n",
    "np.add(a,1, out=a)\n",
    "print(a)\n",
    "print(b)"
   ]
  },
  {
   "cell_type": "markdown",
   "metadata": {},
   "source": [
    "**CUDA Tensors**"
   ]
  },
  {
   "cell_type": "code",
   "execution_count": 21,
   "metadata": {},
   "outputs": [
    {
     "name": "stdout",
     "output_type": "stream",
     "text": [
      "tensor([0.8173], device='cuda:0')\n",
      "tensor([0.8173], dtype=torch.float64)\n"
     ]
    }
   ],
   "source": [
    "# We will use 'torch.device' objects to move tensors in and out of GPU\n",
    "if torch.cuda.is_available():\n",
    "    device = torch.device(\"cuda\")         # a CUDA device object\n",
    "    y = torch.ones_like(x, device=device) # directly create a tensor on GPU\n",
    "    x = x.to(device)                      # another way\n",
    "    z = x + y\n",
    "    print(z)\n",
    "    print(z.to(\"cpu\", torch.double))      # .to can also change dtype together"
   ]
  },
  {
   "cell_type": "code",
   "execution_count": null,
   "metadata": {},
   "outputs": [],
   "source": []
  }
 ],
 "metadata": {
  "kernelspec": {
   "display_name": "Python [conda env:pytorch]",
   "language": "python",
   "name": "conda-env-pytorch-py"
  },
  "language_info": {
   "codemirror_mode": {
    "name": "ipython",
    "version": 3
   },
   "file_extension": ".py",
   "mimetype": "text/x-python",
   "name": "python",
   "nbconvert_exporter": "python",
   "pygments_lexer": "ipython3",
   "version": "3.6.8"
  }
 },
 "nbformat": 4,
 "nbformat_minor": 2
}
